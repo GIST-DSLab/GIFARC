{
 "cells": [
  {
   "cell_type": "code",
   "execution_count": null,
   "metadata": {},
   "outputs": [],
   "source": [
    "import os\n",
    "def gif_list_load(data_dir):\n",
    "    data_list = [\n",
    "        os.path.join(data_dir, f)\n",
    "        for f in os.listdir(data_dir)\n",
    "        if f.endswith(\".gif\") or f.endswith(\".webm\")\n",
    "    ]\n",
    "    return data_list\n",
    "gif_list_load('./data/geometry')"
   ]
  },
  {
   "cell_type": "code",
   "execution_count": 1,
   "metadata": {},
   "outputs": [],
   "source": [
    "from hyeonseok_utils.check_data_already_exists_recursive import check_data_path_already_exists_recursive, check_data_name_only_already_exists_recursive\n",
    "result_exists = check_data_path_already_exists_recursive(['geometry_1.jsonl','geometry_2.jsonl'],['./'], recursive=True)"
   ]
  },
  {
   "cell_type": "code",
   "execution_count": 2,
   "metadata": {},
   "outputs": [
    {
     "data": {
      "text/plain": [
       "([PosixPath('/home/hyunseok/BARC/[intergrated]generated_descriptions/geometry/geometry_1.jsonl'),\n",
       "  PosixPath('/home/hyunseok/BARC/[intergrated]generated_descriptions/geometry/geometry_2.jsonl')],\n",
       " [])"
      ]
     },
     "execution_count": 2,
     "metadata": {},
     "output_type": "execute_result"
    }
   ],
   "source": [
    "result_exists"
   ]
  },
  {
   "cell_type": "code",
   "execution_count": null,
   "metadata": {},
   "outputs": [
    {
     "name": "stdout",
     "output_type": "stream",
     "text": [
      "Successfully selected 10 files for processing\n"
     ]
    }
   ],
   "source": [
    "from hyeonseok_utils.data_collector import find_data_name_from_folder, data_name_list_parser_from_file\n",
    "from hyeonseok_utils.gif_list_load import gif_list_load\n",
    "\n",
    "MAX_SAMPLES = 200\n",
    "TARGET = 'geometry'\n",
    "DATA_DIR = f'./data/{TARGET}'\n",
    "data_files = gif_list_load(DATA_DIR)\n",
    "\n",
    "raw_data_path, b = find_data_name_from_folder(\n",
    "    data_name_list = data_name_list_parser_from_file(\n",
    "        data_select_list_file_path = f\"test_{TARGET}.txt\",\n",
    "        MAX_SAMPLES=10,\n",
    "    ),\n",
    "    data_dir = DATA_DIR,\n",
    "    request_file_format_list = [\".gif\", \".webm\"],\n",
    ")"
   ]
  },
  {
   "cell_type": "code",
   "execution_count": 6,
   "metadata": {},
   "outputs": [],
   "source": [
    "data_path_list = check_data_path_already_exists_recursive(\n",
    "      raw_data_path,\n",
    "      DATA_DIR,\n",
    "      recursive=True\n",
    ")\n"
   ]
  },
  {
   "cell_type": "code",
   "execution_count": 7,
   "metadata": {},
   "outputs": [
    {
     "data": {
      "text/plain": [
       "([PosixPath('/home/hyunseok/BARC/data/geometry/74.gif'),\n",
       "  PosixPath('/home/hyunseok/BARC/data/geometry/75.gif'),\n",
       "  PosixPath('/home/hyunseok/BARC/data/geometry/76.gif'),\n",
       "  PosixPath('/home/hyunseok/BARC/data/geometry/77.gif'),\n",
       "  PosixPath('/home/hyunseok/BARC/data/geometry/78.gif'),\n",
       "  PosixPath('/home/hyunseok/BARC/data/geometry/79.gif'),\n",
       "  PosixPath('/home/hyunseok/BARC/data/geometry/80.gif'),\n",
       "  PosixPath('/home/hyunseok/BARC/data/geometry/81.gif'),\n",
       "  PosixPath('/home/hyunseok/BARC/data/geometry/82.gif'),\n",
       "  PosixPath('/home/hyunseok/BARC/data/geometry/83.gif')],\n",
       " [])"
      ]
     },
     "execution_count": 7,
     "metadata": {},
     "output_type": "execute_result"
    }
   ],
   "source": [
    "data_path_list"
   ]
  },
  {
   "cell_type": "code",
   "execution_count": null,
   "metadata": {},
   "outputs": [],
   "source": [
    "from hyeonseok_utils.simple_rag import get_seeds_idx_ordered_content_from_files\n",
    "import os\n",
    "current_file_dir = './'\n",
    "raw_rng_offset = 777\n",
    "seeds, seeds_contents = get_seeds_idx_ordered_content_from_files(current_file_dir)\n",
    "\n"
   ]
  },
  {
   "cell_type": "code",
   "execution_count": 12,
   "metadata": {},
   "outputs": [
    {
     "name": "stdout",
     "output_type": "stream",
     "text": [
      "Using the following 162 seeds: 6cdd2623, d9f24cd1, 0520fde7, e509e548, 28e73c20, 150deff5, 25d487eb, 017c7c7b, 7f4411dc, 3de23699, 3428a4f5, e9614598, e8dc4411, 681b3aeb, 8e1813be, 05269061, cf98881b, d4f3cd78, 6fa7a44f, 6d75e8bb, d06dbe63, d6ad076f, f8b3ba0a, 8403a5d5, 7447852a, 264363fd, e73095fd, 1a07d186, bc1d5164, 941d9a10, fcc82909, 508bd3b6, 1e32b0e9, 54d82841, 3345333e, 05f2a901, 5daaa586, 44d8ac46, 3618c87e, f8a8fe49, 9f236235, 0a938d79, 10fcaaa3, 239be575, feca6190, d2abd087, 7e0986d6, 746b3537, aba27056, 2dd70a9a, 4258a5f9, 3befdf3e, a78176bb, 6855a6e4, 2c608aff, 0962bcdd, 31aa019c, 6e19193c, 228f6490, 0d3d703e, 44f52bb0, 3e980e27, 469497ad, 776ffc46, af902bf9, 0e206a2e, 46f33fce, 007bbfb7, bbc9ae5d, 8a004b2b, 6a1e5592, ce602527, 72ca375d, 1b60fb0c, 1f642eb9, 1190e5a7, eb281b96, f15e1fac, 178fcbfb, 0dfd9992, db93a21d, e179c5f4, 6b9890af, 9af7a82c, 1b2d62fb, caa06a1f, 5168d44c, b7249182, 25ff71a9, 29c11459, 810b9b61, 5c2c9af4, 6d58a25d, 1bfc4729, 2dee498d, 834ec97d, 0ca9ddb6, 780d0b14, 4093f84a, 995c5fa3, e48d4e1a, 6f8cd79b, 045e512c, 48d8fb45, 264363fd_Kevin, e21d9049, 06df4c85, 6455b5f5, bd4472b8, 6aa20dc0, 6e82a1ae, 7837ac64, 6cf79266, 97a05b5b, a3df8b1e, d511f180, 09629e4f, 3bdb4ada, 41e4d17e, d4a91cb9, b527c5c6, 56dc2b01, ff28f65a, 1cf80156, 2bcee788, 11852cab, 3f7978a0, 3ac3eb23, 4c5c2cf0, 90c28cc7, 8d5021e8, 1fad071e, f9012d9b, 29623171, a79310a0, 1caeab9d, 57aa92db, 444801d8, 2204b7a8, 8d510a79, 23581191, ea786f4a, db3e9e38, a9f96cdd, 137eaa0f, aabf363d, 25d487eb_Kevin, b782dc8a, 623ea044, 3eda0437, 6ecd11f4, aedd82e4, 25d8a9c8, a8c38be5, 0b148d64, 8e5a5113, 00d62c1b, 08ed6ac7, b775ac94, 025d127b, eb5a1d5d, 7c008303\n",
      "f1c1592\n"
     ]
    }
   ],
   "source": [
    "get_rng_offeset(raw_rng_offset, seeds)"
   ]
  },
  {
   "cell_type": "code",
   "execution_count": null,
   "metadata": {},
   "outputs": [],
   "source": [
    "import base64\n",
    "\n",
    "def direct_encode_gif_to_base64(gif_path):\n",
    "    \"\"\"\n",
    "    gif_path: 인코딩할 GIF 파일의 경로\n",
    "    반환: base64 인코딩된 문자열\n",
    "    \"\"\"\n",
    "    with open(gif_path, \"rb\") as f:\n",
    "        gif_data = f.read()  # 바이너리로 읽기\n",
    "\n",
    "    base64_str = base64.b64encode(gif_data).decode(\"utf-8\")  # base64 인코딩 + 문자열로 변환\n",
    "    return base64_str\n"
   ]
  },
  {
   "cell_type": "code",
   "execution_count": null,
   "metadata": {},
   "outputs": [],
   "source": []
  }
 ],
 "metadata": {
  "kernelspec": {
   "display_name": "barc",
   "language": "python",
   "name": "python3"
  },
  "language_info": {
   "codemirror_mode": {
    "name": "ipython",
    "version": 3
   },
   "file_extension": ".py",
   "mimetype": "text/x-python",
   "name": "python",
   "nbconvert_exporter": "python",
   "pygments_lexer": "ipython3",
   "version": "3.13.2"
  }
 },
 "nbformat": 4,
 "nbformat_minor": 2
}
